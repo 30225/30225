{
  "cells": [
    {
      "cell_type": "markdown",
      "metadata": {
        "id": "view-in-github",
        "colab_type": "text"
      },
      "source": [
        "<a href=\"https://colab.research.google.com/github/30225/30225/blob/main/notebooks/00_Linear_algebra_with_Numpy.ipynb\" target=\"_parent\"><img src=\"https://colab.research.google.com/assets/colab-badge.svg\" alt=\"Open In Colab\"/></a>"
      ]
    },
    {
      "cell_type": "markdown",
      "metadata": {
        "id": "JMBVNjNHzX_4"
      },
      "source": [
        "# Linear algebra with Numpy\n",
        "\n",
        "Andrés Marrugo, PhD    \n",
        "Universidad Tecnológica de Bolívar\n",
        "\n",
        "Based on the jupyter notebook by [Vince Knight](https://github.com/drvinceknight/Python-Mathematics-Handbook)\n",
        "\n",
        "Many computer vision algorithms require numeric computations performed with matrices and these are best solved with [Numpy](http://www.numpy.org/) a high performance numerical computing library.\n",
        "\n",
        "Here is how it is described:\n",
        "\n",
        "> NumPy is the fundamental package for scientific computing with Python. It contains among other things: [...]\n",
        " useful linear algebra, Fourier transform, and random number capabilities.\n",
        "\n",
        "This notebook is a way to review several linear algebra concepts and to get acquainted with their computation in Python. In this section we will see how to:\n",
        "\n",
        "- Manipulate matrices;\n",
        "- Solve Matrix equations;\n",
        "- Calculate Matrix inverse and determinants.\n",
        "\n",
        "## Manipulating matrices\n",
        "\n",
        "It is straightforward to create a Matrix using Numpy. Let us consider the following as a examples:\n",
        "\n",
        "$$\n",
        "A = \\begin{pmatrix}\n",
        "5 & 6 & 2\\\\\n",
        "4 & 7 & 19\\\\\n",
        "0 & 3 & 12\n",
        "\\end{pmatrix}\n",
        "$$\n",
        "\n",
        "$$\n",
        "B = \\begin{pmatrix}\n",
        "14 & -2 & 12\\\\\n",
        "4 & 4 & 5\\\\\n",
        "5 & 5 & 1\n",
        "\\end{pmatrix}\n",
        "$$\n",
        "\n",
        "\n",
        "First, we need to import Numpy:"
      ]
    },
    {
      "cell_type": "code",
      "execution_count": 1,
      "metadata": {
        "id": "1HHro_OBzX_6"
      },
      "outputs": [],
      "source": [
        "import numpy as np"
      ]
    },
    {
      "cell_type": "markdown",
      "metadata": {
        "id": "vsUBxK59zX_7"
      },
      "source": [
        "Now we can define $A$:"
      ]
    },
    {
      "cell_type": "code",
      "execution_count": 2,
      "metadata": {
        "id": "eSkg-tpQzX_7"
      },
      "outputs": [],
      "source": [
        "A = np.array([[5, 6, 2],\n",
        "               [4, 7, 19],\n",
        "               [0, 3, 12]])"
      ]
    },
    {
      "cell_type": "code",
      "execution_count": 3,
      "metadata": {
        "colab": {
          "base_uri": "https://localhost:8080/"
        },
        "id": "TdQ9DkFOzX_7",
        "outputId": "4c59eaf9-a00d-40c0-f6d2-f705d470a9a8"
      },
      "outputs": [
        {
          "output_type": "execute_result",
          "data": {
            "text/plain": [
              "array([[ 5,  6,  2],\n",
              "       [ 4,  7, 19],\n",
              "       [ 0,  3, 12]])"
            ]
          },
          "metadata": {},
          "execution_count": 3
        }
      ],
      "source": [
        "A"
      ]
    },
    {
      "cell_type": "code",
      "execution_count": 4,
      "metadata": {
        "id": "fD-GjflVzX_8"
      },
      "outputs": [],
      "source": [
        "B = np.array([[14, -2, 12],\n",
        "               [4, 4, 5],\n",
        "               [5, 5, 1]])"
      ]
    },
    {
      "cell_type": "code",
      "execution_count": 5,
      "metadata": {
        "colab": {
          "base_uri": "https://localhost:8080/"
        },
        "id": "D8Hp2uj5zX_9",
        "outputId": "2444640a-4ebe-4570-a775-39e9c7554535"
      },
      "outputs": [
        {
          "output_type": "execute_result",
          "data": {
            "text/plain": [
              "array([[14, -2, 12],\n",
              "       [ 4,  4,  5],\n",
              "       [ 5,  5,  1]])"
            ]
          },
          "metadata": {},
          "execution_count": 5
        }
      ],
      "source": [
        "B"
      ]
    },
    {
      "cell_type": "markdown",
      "metadata": {
        "id": "5q3uCE4nzX_-"
      },
      "source": [
        "We can obtain the following straightforwardly:\n",
        "\n",
        "- $5A$ (or any other scalar multiple of $A$);\n",
        "- $A ^ 3$ (or any other exponent of $A$);\n",
        "- $A + B$;\n",
        "- $A - B$;\n",
        "- $AB$"
      ]
    },
    {
      "cell_type": "code",
      "execution_count": 6,
      "metadata": {
        "colab": {
          "base_uri": "https://localhost:8080/"
        },
        "id": "rCaVwm0KzX_-",
        "outputId": "8f07c847-b410-4559-aed6-fd9346d03caa"
      },
      "outputs": [
        {
          "output_type": "execute_result",
          "data": {
            "text/plain": [
              "array([[25, 30, 10],\n",
              "       [20, 35, 95],\n",
              "       [ 0, 15, 60]])"
            ]
          },
          "metadata": {},
          "execution_count": 6
        }
      ],
      "source": [
        "5 * A"
      ]
    },
    {
      "cell_type": "code",
      "execution_count": 7,
      "metadata": {
        "colab": {
          "base_uri": "https://localhost:8080/"
        },
        "id": "j_HeXWLFzX__",
        "outputId": "b8f08c05-b168-4fa0-b6ba-cb383a2aeb57"
      },
      "outputs": [
        {
          "output_type": "execute_result",
          "data": {
            "text/plain": [
              "array([[ 125,  216,    8],\n",
              "       [  64,  343, 6859],\n",
              "       [   0,   27, 1728]])"
            ]
          },
          "metadata": {},
          "execution_count": 7
        }
      ],
      "source": [
        "A ** 3"
      ]
    },
    {
      "cell_type": "code",
      "execution_count": 8,
      "metadata": {
        "colab": {
          "base_uri": "https://localhost:8080/"
        },
        "id": "RFyFFs9HzX__",
        "outputId": "0f119f8c-8944-45de-fc9e-83769e4b8617"
      },
      "outputs": [
        {
          "output_type": "execute_result",
          "data": {
            "text/plain": [
              "array([[19,  4, 14],\n",
              "       [ 8, 11, 24],\n",
              "       [ 5,  8, 13]])"
            ]
          },
          "metadata": {},
          "execution_count": 8
        }
      ],
      "source": [
        "A + B"
      ]
    },
    {
      "cell_type": "code",
      "execution_count": 9,
      "metadata": {
        "colab": {
          "base_uri": "https://localhost:8080/"
        },
        "id": "W3yKCRRrzYAA",
        "outputId": "5eb99af9-7873-443e-f1d7-74bcbb62eae0"
      },
      "outputs": [
        {
          "output_type": "execute_result",
          "data": {
            "text/plain": [
              "array([[ -9,   8, -10],\n",
              "       [  0,   3,  14],\n",
              "       [ -5,  -2,  11]])"
            ]
          },
          "metadata": {},
          "execution_count": 9
        }
      ],
      "source": [
        "A - B"
      ]
    },
    {
      "cell_type": "code",
      "execution_count": 10,
      "metadata": {
        "colab": {
          "base_uri": "https://localhost:8080/"
        },
        "id": "gxPdcRWXzYAB",
        "outputId": "edb6baff-bcef-4f9e-f3a9-dbd57c63debd"
      },
      "outputs": [
        {
          "output_type": "execute_result",
          "data": {
            "text/plain": [
              "array([[104,  24,  92],\n",
              "       [179, 115, 102],\n",
              "       [ 72,  72,  27]])"
            ]
          },
          "metadata": {},
          "execution_count": 10
        }
      ],
      "source": [
        "A @ B"
      ]
    },
    {
      "cell_type": "markdown",
      "metadata": {
        "id": "dNHWoV4jRrJn"
      },
      "source": [
        "**Matrix multiplication.** Unfortunately, there are many ways to do [matrix multiplication in Python](https://blog.finxter.com/numpy-matmul-operator/ \"NumPy Matrix Multiplication — np.matmul() and @ [Ultimate Guide] | Finxter\"). The suggested way is to used the `@` operator because the `*` does not perform matrix multiplication.\n",
        "\n",
        "Check that `np.dot(A, B)` produces the same result."
      ]
    },
    {
      "cell_type": "code",
      "execution_count": 11,
      "metadata": {
        "colab": {
          "base_uri": "https://localhost:8080/"
        },
        "id": "1T03saLyS38F",
        "outputId": "34833a23-53dc-4611-dd01-e97089b09a06"
      },
      "outputs": [
        {
          "output_type": "execute_result",
          "data": {
            "text/plain": [
              "array([[104,  24,  92],\n",
              "       [179, 115, 102],\n",
              "       [ 72,  72,  27]])"
            ]
          },
          "metadata": {},
          "execution_count": 11
        }
      ],
      "source": [
        "np.dot(A, B)"
      ]
    },
    {
      "cell_type": "markdown",
      "metadata": {
        "id": "a5DNyfa30-fP"
      },
      "source": [
        "---\n",
        "\n",
        "**EXERCISE** Compute $A ^ 2 - 2 A + 3$ with:\n",
        "\n",
        "$$A =\n",
        "\\begin{pmatrix}\n",
        "1 & -1\\\\\n",
        "2 & 1\n",
        "\\end{pmatrix}\n",
        "$$\n",
        "\n",
        "---"
      ]
    },
    {
      "cell_type": "code",
      "execution_count": 12,
      "metadata": {
        "id": "6vJiSS7_03yA",
        "colab": {
          "base_uri": "https://localhost:8080/"
        },
        "outputId": "2da0d2d4-b33a-49d9-a945-7033b1c143c7"
      },
      "outputs": [
        {
          "output_type": "execute_result",
          "data": {
            "text/plain": [
              "array([[2, 6],\n",
              "       [3, 2]])"
            ]
          },
          "metadata": {},
          "execution_count": 12
        }
      ],
      "source": [
        "# Write here the solution\n",
        "\n",
        "\n",
        "import numpy as np\n",
        "#creo la matriz\n",
        "A = np.array([[1, -1],\n",
        "             [2, 1]])\n",
        "#operacion\n",
        "A**2 - 2*A + 3"
      ]
    },
    {
      "cell_type": "markdown",
      "metadata": {
        "id": "X0XpdHLNzYAC"
      },
      "source": [
        "## Solving Matrix equations\n",
        "\n",
        "We can use Numpy to (efficiently) solve large systems of equations of the form:\n",
        "\n",
        "$$Ax=b$$\n",
        "\n",
        "Let us illustrate that with:\n",
        "\n",
        "$$\n",
        "A = \\begin{pmatrix}\n",
        "5 & 6 & 2\\\\\n",
        "4 & 7 & 19\\\\\n",
        "0 & 3 & 12\n",
        "\\end{pmatrix}\n",
        "$$\n",
        "\n",
        "$$\n",
        "b = \\begin{pmatrix}\n",
        "-1\\\\\n",
        "2\\\\\n",
        "1\n",
        "\\end{pmatrix}\n",
        "$$"
      ]
    },
    {
      "cell_type": "code",
      "execution_count": 13,
      "metadata": {
        "id": "R1CALuF6zYAE"
      },
      "outputs": [],
      "source": [
        "A = np.array([[5, 6, 2],\n",
        "               [4, 7, 19],\n",
        "               [0, 3, 12]])\n",
        "b = np.array([[-1], [2], [1]])"
      ]
    },
    {
      "cell_type": "markdown",
      "metadata": {
        "id": "bnFh8G4MzYAG"
      },
      "source": [
        "We use the `linalg.solve` command:"
      ]
    },
    {
      "cell_type": "code",
      "execution_count": 14,
      "metadata": {
        "colab": {
          "base_uri": "https://localhost:8080/"
        },
        "id": "aLgDeASqzYAH",
        "outputId": "5742d10b-d232-494d-aec1-8636462309c9"
      },
      "outputs": [
        {
          "output_type": "execute_result",
          "data": {
            "text/plain": [
              "array([[ 0.45736434],\n",
              "       [-0.62790698],\n",
              "       [ 0.24031008]])"
            ]
          },
          "metadata": {},
          "execution_count": 14
        }
      ],
      "source": [
        "x = np.linalg.solve(A, b)\n",
        "x"
      ]
    },
    {
      "cell_type": "markdown",
      "metadata": {
        "id": "3Abn5IkizYAI"
      },
      "source": [
        "We can verify our result:"
      ]
    },
    {
      "cell_type": "code",
      "execution_count": 15,
      "metadata": {
        "colab": {
          "base_uri": "https://localhost:8080/"
        },
        "id": "puPXV8E8zYAI",
        "outputId": "528b8b3e-336e-4a1d-b446-2df697006b08"
      },
      "outputs": [
        {
          "output_type": "execute_result",
          "data": {
            "text/plain": [
              "array([[-1.],\n",
              "       [ 2.],\n",
              "       [ 1.]])"
            ]
          },
          "metadata": {},
          "execution_count": 15
        }
      ],
      "source": [
        "A @ x"
      ]
    },
    {
      "cell_type": "markdown",
      "metadata": {
        "id": "bcrHxjAA1TMe"
      },
      "source": [
        "---\n",
        "\n",
        "**EXERCISE** Compute the solutions to the matrix equation $Bx=b$ (using the $B$ defined earlier).\n",
        "\n",
        "---"
      ]
    },
    {
      "cell_type": "code",
      "execution_count": 16,
      "metadata": {
        "id": "BopE0Js21UQZ",
        "colab": {
          "base_uri": "https://localhost:8080/"
        },
        "outputId": "38fa3ffa-0693-4bfc-dd45-97e6f3a17b24"
      },
      "outputs": [
        {
          "output_type": "execute_result",
          "data": {
            "text/plain": [
              "array([[-1.],\n",
              "       [ 2.],\n",
              "       [ 1.]])"
            ]
          },
          "metadata": {},
          "execution_count": 16
        }
      ],
      "source": [
        "# Write the solution here\n",
        "\n",
        "import numpy as np\n",
        "#creo matriz y vector\n",
        "B = np.array([[14, -2, 12],\n",
        "               [4, 4, 5],\n",
        "               [5, 5, 1]])\n",
        "b = np.array([[-1], [2], [1]])\n",
        "#resuelvo\n",
        "x = np.linalg.solve(B, b)\n",
        "x\n",
        "B @ x #compruebo"
      ]
    },
    {
      "cell_type": "markdown",
      "metadata": {
        "id": "h0pN62P4zYAJ"
      },
      "source": [
        "## Matrix inversion and determinants\n",
        "\n",
        "Computing the inverse of a matrix is straightforward:"
      ]
    },
    {
      "cell_type": "code",
      "execution_count": 17,
      "metadata": {
        "colab": {
          "base_uri": "https://localhost:8080/"
        },
        "id": "YkZVkHemzYAK",
        "outputId": "ad56fa17-67cc-4ba6-d180-25bbaeb8fc10"
      },
      "outputs": [
        {
          "output_type": "execute_result",
          "data": {
            "text/plain": [
              "array([[-0.20930233,  0.51162791, -0.7751938 ],\n",
              "       [ 0.37209302, -0.46511628,  0.6744186 ],\n",
              "       [-0.09302326,  0.11627907, -0.08527132]])"
            ]
          },
          "metadata": {},
          "execution_count": 17
        }
      ],
      "source": [
        "Ainv = np.linalg.inv(A)\n",
        "Ainv"
      ]
    },
    {
      "cell_type": "markdown",
      "metadata": {
        "id": "V92UrOm9zYAK"
      },
      "source": [
        "We can verify that $A^{-1}A=\\mathbb{1}$:"
      ]
    },
    {
      "cell_type": "code",
      "execution_count": 18,
      "metadata": {
        "colab": {
          "base_uri": "https://localhost:8080/"
        },
        "id": "FDSczBjMzYAL",
        "outputId": "a30aef19-6783-4e80-9ebf-38c387bff453",
        "tags": [
          "nbval-ignore-output"
        ]
      },
      "outputs": [
        {
          "output_type": "execute_result",
          "data": {
            "text/plain": [
              "array([[ 1.00000000e+00,  4.99600361e-16, -4.71844785e-16],\n",
              "       [ 1.38777878e-16,  1.00000000e+00, -2.63677968e-16],\n",
              "       [ 1.11022302e-16,  1.11022302e-16,  1.00000000e+00]])"
            ]
          },
          "metadata": {},
          "execution_count": 18
        }
      ],
      "source": [
        "A @ Ainv"
      ]
    },
    {
      "cell_type": "markdown",
      "metadata": {
        "id": "eme83ESCzYAL"
      },
      "source": [
        "The above might not look like the identity matrix but if you look closer you see that the diagonals are all `1` and the off diagonals are a **very** small number (which from a computer's point of view is `0`).\n",
        "\n",
        "We can also verify that `A @ Ainv` is close to the identity matrix `np.eye()` using the `np.allclose()` command."
      ]
    },
    {
      "cell_type": "code",
      "source": [
        "# Run this command to check that A @ Ainv is close to I\n",
        "np.allclose(A @ Ainv, np.eye(3,3))"
      ],
      "metadata": {
        "colab": {
          "base_uri": "https://localhost:8080/"
        },
        "id": "YFvYO4j98HGk",
        "outputId": "17470f1d-dad5-4b9f-baea-c829c23868be"
      },
      "execution_count": 19,
      "outputs": [
        {
          "output_type": "execute_result",
          "data": {
            "text/plain": [
              "True"
            ]
          },
          "metadata": {},
          "execution_count": 19
        }
      ]
    },
    {
      "cell_type": "markdown",
      "metadata": {
        "id": "3zFLJ0bVzYAM"
      },
      "source": [
        "To calculate the determinant:"
      ]
    },
    {
      "cell_type": "code",
      "execution_count": 20,
      "metadata": {
        "colab": {
          "base_uri": "https://localhost:8080/"
        },
        "id": "koPyt0w3zYAM",
        "outputId": "7f730d9d-a385-4088-dcf4-ec6f79ccd7e1",
        "tags": [
          "nbval-ignore-output"
        ]
      },
      "outputs": [
        {
          "output_type": "execute_result",
          "data": {
            "text/plain": [
              "-129.00000000000009"
            ]
          },
          "metadata": {},
          "execution_count": 20
        }
      ],
      "source": [
        "np.linalg.det(A)"
      ]
    },
    {
      "cell_type": "markdown",
      "metadata": {
        "id": "txxPAddm1hBS"
      },
      "source": [
        "---\n",
        "\n",
        "**EXERCISE** Compute the inverse and determinant of $B$ (defined previously).\n",
        "\n",
        "---"
      ]
    },
    {
      "cell_type": "code",
      "execution_count": 21,
      "metadata": {
        "id": "InU_qgzM1iB4",
        "colab": {
          "base_uri": "https://localhost:8080/"
        },
        "outputId": "36efe249-7287-4782-c35d-9c94284df34b"
      },
      "outputs": [
        {
          "output_type": "execute_result",
          "data": {
            "text/plain": [
              "-336.0"
            ]
          },
          "metadata": {},
          "execution_count": 21
        }
      ],
      "source": [
        "# Write the solution here\n",
        "\n",
        "import numpy as np\n",
        "B = np.array([[14, -2, 12],\n",
        "               [4, 4, 5],\n",
        "               [5, 5, 1]])\n",
        "Binv = np.linalg.inv(B) #inversa\n",
        "Binv\n",
        "np.allclose(B @ Binv, np.eye(3,3)) #compruebo\n",
        "np.linalg.det(B) #determinante"
      ]
    },
    {
      "cell_type": "markdown",
      "source": [
        "## Rotations\n",
        "\n",
        "Rotation is a fundamental operation in computer graphics, robotics, and many other fields. In this exercise, you will create a 2D rotation matrix and apply it to a set of points.\n",
        "\n"
      ],
      "metadata": {
        "id": "u9loI_iq_3rg"
      }
    },
    {
      "cell_type": "markdown",
      "source": [
        "Generate a set of points in 2D forming a square. You can do this manually or use the `np.mgrid` function."
      ],
      "metadata": {
        "id": "cBqutQ9QAKWC"
      }
    },
    {
      "cell_type": "code",
      "source": [
        "points = np.array([[1, 1, -1, -1, 1], [1, -1, -1, 1, 1]])"
      ],
      "metadata": {
        "id": "7fzb7QucAMv2"
      },
      "execution_count": 22,
      "outputs": []
    },
    {
      "cell_type": "markdown",
      "source": [
        "Create a function that returns a 2D rotation matrix given an angle in degrees. The rotation matrix for a counterclockwise rotation by an angle $\\theta$ in 2D is:\n",
        "\n",
        "\\begin{bmatrix}\n",
        "\\cos(\\theta) & -\\sin(\\theta) \\\\\\\\\n",
        "\\sin(\\theta) & \\cos(\\theta)\n",
        "\\end{bmatrix}\n"
      ],
      "metadata": {
        "id": "vnt6X4Q_Azu3"
      }
    },
    {
      "cell_type": "code",
      "source": [
        "# Here is the function\n",
        "def rotation_matrix(theta):\n",
        "    theta_rad = np.deg2rad(theta)\n",
        "    R = np.array([[np.cos(theta_rad), -np.sin(theta_rad)],\n",
        "                  [np.sin(theta_rad), np.cos(theta_rad)]])\n",
        "    return R\n"
      ],
      "metadata": {
        "id": "R7gRsrlgA_zd"
      },
      "execution_count": 23,
      "outputs": []
    },
    {
      "cell_type": "markdown",
      "source": [
        "Apply the rotation matrix to the set of points for a few different angles (e.g., 45, 90, 180 degrees) and plot the original points and the transformed points using `plt.plot()`. You should see the square rotate.\n",
        "\n",
        "Dont'forget to import matplotlib for plotting."
      ],
      "metadata": {
        "id": "hNlTNuq6BHic"
      }
    },
    {
      "cell_type": "code",
      "source": [
        "import matplotlib.pyplot as plt\n",
        "\n",
        "for theta in [45, 90, 180]:\n",
        "    R = rotation_matrix(theta)\n",
        "    rotated_points = R @ points\n",
        "    plt.figure()\n",
        "    plt.plot(points[0, :], points[1, :], 'b-', label='Original')\n",
        "    plt.plot(rotated_points[0, :], rotated_points[1, :], 'r-', label='Rotated')\n",
        "    plt.axis('equal')\n",
        "    plt.legend()\n",
        "    plt.title(f'Rotation by {theta} degrees')\n",
        "    plt.show()\n"
      ],
      "metadata": {
        "colab": {
          "base_uri": "https://localhost:8080/",
          "height": 1000
        },
        "id": "vVXSbXZ-BLEJ",
        "outputId": "f481ab8a-5e2e-47e2-da17-e6a82be8aad5"
      },
      "execution_count": 24,
      "outputs": [
        {
          "output_type": "display_data",
          "data": {
            "text/plain": [
              "<Figure size 640x480 with 1 Axes>"
            ],
            "image/png": "[encoded data removed]"
          },
          "metadata": {}
        },
        {
          "output_type": "display_data",
          "data": {
            "text/plain": [
              "<Figure size 640x480 with 1 Axes>"
            ],
            "image/png": "[encoded data removed]"
          },
          "metadata": {}
        },
        {
          "output_type": "display_data",
          "data": {
            "text/plain": [
              "<Figure size 640x480 with 1 Axes>"
            ],
            "image/png": "[encoded data removed]"
          },
          "metadata": {}
        }
      ]
    },
    {
      "cell_type": "markdown",
      "source": [],
      "metadata": {
        "id": "qqNQS4kkE8UI"
      }
    },
    {
      "cell_type": "markdown",
      "source": [
        "---\n",
        "\n",
        "**EXERCISE** Generate a triangle, and apply the same rotation. Observe how the shape changes with different rotation angles.\n",
        "\n",
        "---"
      ],
      "metadata": {
        "id": "9_wYLyRD_sYJ"
      }
    },
    {
      "cell_type": "code",
      "source": [
        "\n",
        "# Write the solution here\n",
        "\n",
        "import numpy as np\n",
        "import matplotlib.pyplot as plt\n",
        "\n",
        "# Generar puntos para un triángulo en 2D\n",
        "triangle = np.array([[0, 1, -1, 0], [1, -1, -1, 1]])  # Cierra el triángulo volviendo al punto inicial\n",
        "\n",
        "# Función para crear la matriz de rotación\n",
        "def rotation_matrix(theta):\n",
        "    theta_rad = np.deg2rad(theta)\n",
        "    R = np.array([[np.cos(theta_rad), -np.sin(theta_rad)],\n",
        "                  [np.sin(theta_rad), np.cos(theta_rad)]])\n",
        "    return R\n",
        "\n",
        "# Aplicar rotaciones y graficar\n",
        "for theta in [45, 90, 180]:\n",
        "    R = rotation_matrix(theta)\n",
        "    rotated_triangle = R @ triangle\n",
        "\n",
        "    plt.figure()\n",
        "    plt.plot(triangle[0, :], triangle[1, :], 'b-', label='Original')\n",
        "    plt.plot(rotated_triangle[0, :], rotated_triangle[1, :], 'r-', label=f'Rotated {theta}°')\n",
        "    plt.axis('equal')\n",
        "    plt.legend()\n",
        "    plt.title(f'Rotation by {theta} degrees')\n",
        "    plt.show()"
      ],
      "metadata": {
        "id": "doaW5G78CKT7",
        "colab": {
          "base_uri": "https://localhost:8080/",
          "height": 1000
        },
        "outputId": "8745d3eb-2a66-4605-b913-5fc4d03109c3"
      },
      "execution_count": 25,
      "outputs": [
        {
          "output_type": "display_data",
          "data": {
            "text/plain": [
              "<Figure size 640x480 with 1 Axes>"
            ],
            "image/png": "[encoded data removed]"
          },
          "metadata": {}
        },
        {
          "output_type": "display_data",
          "data": {
            "text/plain": [
              "<Figure size 640x480 with 1 Axes>"
            ],
            "image/png": "[encoded data removed]"
          },
          "metadata": {}
        },
        {
          "output_type": "display_data",
          "data": {
            "text/plain": [
              "<Figure size 640x480 with 1 Axes>"
            ],
            "image/png": "[encoded data removed]"
          },
          "metadata": {}
        }
      ]
    },
    {
      "cell_type": "markdown",
      "source": [
        "## Exercise for Graduate students: Image Compression and Reconstruction using SVD\n",
        "\n",
        "Use Singular Value Decomposition (SVD) to compress and reconstruct an image, exploring the trade-offs between compression ratio and image quality. This exercise will highlight the utility of SVD in practical image processing tasks."
      ],
      "metadata": {
        "id": "9vwRIogicYyU"
      }
    },
    {
      "cell_type": "markdown",
      "source": [
        "### Steps\n",
        "\n",
        "#### 1. Image Preparation\n",
        "- Load a grayscale image into a Numpy array.\n",
        "- Display the original image.\n",
        "\n",
        "#### 2. Applying SVD\n",
        "- Perform SVD on the image matrix to obtain U, Σ, and V^T.\n",
        "- Display the shapes of U, Σ, and V^T.\n",
        "\n",
        "#### 3. Image Compression\n",
        "- Choose a set of singular values (e.g., first 10, 20).\n",
        "- Reconstruct the image using only the chosen singular values.\n",
        "- Repeat with different numbers of singular values to explore different compression levels.\n",
        "\n",
        "#### 4. Visualization and Analysis\n",
        "- Display original and compressed images side by side.\n",
        "- Discuss the compression ratio and impact on image quality for each compression level.\n",
        "\n",
        "#### 5. Advanced Exploration (Optional)\n",
        "- Test the compression on different image types.\n",
        "- Explore SVD in noise reduction by altering singular values before reconstruction.\n",
        "\n",
        "### Requirements\n",
        "- Use Numpy for SVD and matrix operations.\n",
        "- Use matplotlib or similar for image handling.\n",
        "- Provide explanations for each step, emphasizing the principles and applications of SVD."
      ],
      "metadata": {
        "id": "cmCSCJeic7Ni"
      }
    },
    {
      "cell_type": "code",
      "source": [
        "# Write the solution here\n",
        "\n",
        "\n",
        "# Image compression using SVD\n",
        "#\n",
        "# Author: Dewei Chen\n",
        "# Date: 12/12/15\n",
        "# https://github.com/mutaphore/svd-image-compression\n",
        "# This program has following dependencies:\n",
        "# skimage, matplotlib, scipy, numpy and PIL\n",
        "\n",
        "import argparse\n",
        "import numpy as np\n",
        "import matplotlib.pyplot as plt\n",
        "from scipy import misc\n",
        "from scipy import linalg\n",
        "from PIL import Image\n",
        "from skimage import io, img_as_float, img_as_uint\n",
        "from skimage.metrics import structural_similarity as ssim\n",
        "\n",
        "\n",
        "def combine(U, S, V):\n",
        "\treturn np.dot(np.dot(U, S), V)\n",
        "\n",
        "def svd_compress_ssim(img, target_ss):\n",
        "\t\"\"\"Compress image by finding k that is closest to target ssim.\n",
        "\tSince rank and ssim relationship is linear, we do a\n",
        "\tbinary search, followed by finer grained linear search\"\"\"\n",
        "\trank = min(img.shape[0], img.shape[1])\n",
        "\tleft = 1\n",
        "\tright = rank\n",
        "\tlast_ss = 100\n",
        "\tk = 1\n",
        "\tcompressed = None\n",
        "\tU, singular_vals, V = linalg.svd(img)\n",
        "\t# binary search\n",
        "\twhile left < right:\n",
        "\t\tk = (left + right) / 2\n",
        "\t\tS_p = np.zeros((k, k), img.dtype)\n",
        "\t\tfor i in range(k):\n",
        "\t\t\tS_p[i][i] = singular_vals[i]\n",
        "\t\tcompressed = combine(U[:,:k], S_p, V[:k,:])\n",
        "\t\tss = ssim(img, compressed, data_range=img.max() - img.min())\n",
        "\t\tif abs(ss - target_ss) < abs(last_ss - target_ss):\n",
        "\t\t\tlast_ss = ss\n",
        "\t\t\tif ss > target_ss:\n",
        "\t\t\t\tright = k\n",
        "\t\t\telse:\n",
        "\t\t\t\tleft = k\n",
        "\t\telse:\n",
        "\t\t\tbreak\n",
        "\t# more fine grained linear search\n",
        "\tif last_ss < target_ss:\n",
        "\t\twhile 1:\n",
        "\t\t\tS_p = np.zeros((k + 1, k + 1), img.dtype)\n",
        "\t\t\tfor i in range(k + 1):\n",
        "\t\t\t\tS_p[i][i] = singular_vals[i]\n",
        "\t\t\tcompressed = combine(U[:,:k+1], S_p, V[:k+1,:])\n",
        "\t\t\tss = ssim(img, compressed,\n",
        "\t\t\t\tdynamic_range=compressed.max()-compressed.min())\n",
        "\t\t\tif abs(ss - target_ss) < abs(last_ss - target_ss):\n",
        "\t\t\t\tlast_ss = ss\n",
        "\t\t\t\tk += 1\n",
        "\t\t\telse:\n",
        "\t\t\t\tbreak\n",
        "\telse:\n",
        "\t\twhile 1:\n",
        "\t\t\tS_p = np.zeros((k - 1, k - 1), img.dtype)\n",
        "\t\t\tfor i in range(k - 1):\n",
        "\t\t\t\tS_p[i][i] = singular_vals[i]\n",
        "\t\t\tcompressed = combine(U[:,:k-1], S_p, V[:k-1,:])\n",
        "\t\t\tss = ssim(img, compressed,\n",
        "\t\t\t\tdynamic_range=compressed.max()-compressed.min())\n",
        "\t\t\tif abs(ss - target_ss) < abs(last_ss - target_ss):\n",
        "\t\t\t\tlast_ss = ss\n",
        "\t\t\t\tk -= 1\n",
        "\t\t\telse:\n",
        "\t\t\t\tbreak\n",
        "\tprint (\"Best k found %r with ssim %r\" % (k, last_ss))\n",
        "\treturn compressed\n",
        "\n",
        "def svd_compress_gs(img, k):\n",
        "\t\"\"\"Given a matrix representing a grayscale image, compress\n",
        "\tit by taking the largest k elements from its singular values\"\"\"\n",
        "\tU, singular_vals, V = linalg.svd(img)\n",
        "\trank = len(singular_vals)\n",
        "\tprint (\"Image rank %r\" % rank)\n",
        "\tif k > rank:\n",
        "\t\tprint (\"k is larger than rank of image %r\" % rank)\n",
        "\t\treturn img\n",
        "\t# take columns less than k from U\n",
        "\tU_p = U[:,:k]\n",
        "\t# take rows less than k from V\n",
        "\tV_p = V[:k,:]\n",
        "\t# build the new S matrix with top k diagnal elements\n",
        "\tS_p = np.zeros((k, k), img.dtype)\n",
        "\tfor i in range(k):\n",
        "\t\tS_p[i][i] = singular_vals[i]\n",
        "\tprint (\"U_p shape {0}, S_p shape {1}, V_p shape {2}\".format(\n",
        "\t\tU_p.shape, S_p.shape, V_p.shape))\n",
        "\tcompressed = np.dot(np.dot(U_p, S_p), V_p)\n",
        "\tss = ssim(img, compressed,\n",
        "\t\tdynamic_range=compressed.max()-compressed.min())\n",
        "\tprint (\"Strucural similarity: %r\" % ss)\n",
        "\treturn compressed\n",
        "\n",
        "def svd_compress_rgb(img, k_r, k_g, k_b):\n",
        "\t\"\"\"Given a matrix representing a RGB image, compress\n",
        "\tit by taking the largest k elements from its singular values\"\"\"\n",
        "\t# split into separate channels\n",
        "\tcomp_r = svd_compress_gs(img[:,:,0], k_r)\n",
        "\tcomp_g = svd_compress_gs(img[:,:,1], k_g)\n",
        "\tcomp_b = svd_compress_gs(img[:,:,2], k_b)\n",
        "\tnew_img = np.zeros(img.shape, img.dtype)\n",
        "\tnrows = img.shape[0]\n",
        "\tncols = img.shape[1]\n",
        "\tnchans = img.shape[2]\n",
        "\tfor i in range(nrows):\n",
        "\t\tfor j in range(ncols):\n",
        "\t\t\tfor c in range(nchans):\n",
        "\t\t\t\tval = 0\n",
        "\t\t\t\tif c == 0:\n",
        "\t\t\t\t\tval = comp_r[i][j]\n",
        "\t\t\t\telif c == 1:\n",
        "\t\t\t\t\tval = comp_g[i][j]\n",
        "\t\t\t\telse:\n",
        "\t\t\t\t\tval = comp_b[i][j]\n",
        "\t\t\t\t# float64 values must be between -1.0 and 1.0\n",
        "\t\t\t\tif val < -1.0:\n",
        "\t\t\t\t\tval = -1.0\n",
        "\t\t\t\telif val > 1.0:\n",
        "\t\t\t\t\tval = 1.0\n",
        "\t\t\t\tnew_img[i][j][c] = val\n",
        "\treturn new_img\n",
        "\n",
        "def compress_ratio(orig_img, k):\n",
        "\t\"\"\"Calculate the compression ratio of an compressed image\n",
        "\tto the original image.\"\"\"\n",
        "\tm = float(orig_img.shape[0])\n",
        "\tn = float(orig_img.shape[1])\n",
        "\tcomp_bytes = 0\n",
        "\tif len(orig_img.shape) > 2:\n",
        "\t\tcomp_bytes += k[0] * (m + n + 1)\n",
        "\t\tcomp_bytes += k[1] * (m + n + 1)\n",
        "\t\tcomp_bytes += k[2] * (m + n + 1)\n",
        "\t\treturn comp_bytes / (3 * m * n)\n",
        "\telse:\n",
        "\t\tcomp_bytes = k[0] * (m + n + 1)\n",
        "\t\treturn comp_bytes / (m * n)\n",
        "\n",
        "def compress_images_k(in_dir, out_dir, num_imgs, img_format, k_values):\n",
        "\t\"\"\"Compress images with different k values. Compressed format is png.\"\"\"\n",
        "\tfor i in range(1, num_imgs+1):\n",
        "\t\timg = io.imread(\"{0}/{1}.{2}\".format(in_dir, i, img_format))\n",
        "\t\timg = img_as_float(img)\n",
        "\t\tfor k in k_values:\n",
        "\t\t\tfilename = \"{0}/{1}/{2}.png\".format(out_dir, i, k)\n",
        "\t\t\tprint (filename)\n",
        "\t\t\t# check if this is an RGB or grayscale image\n",
        "\t\t\tcompressed = None\n",
        "\t\t\tif len(img.shape) > 2:\n",
        "\t\t\t\tcompressed = svd_compress_rgb(img, k, k, k)\n",
        "\t\t\telse:\n",
        "\t\t\t\tcompressed = svd_compress_gs(img, k)\n",
        "\t\t\tio.imsave(filename, compressed)\n",
        "\n",
        "def compress_images_ss(in_dir, out_dir, num_imgs, img_format, ss_values):\n",
        "\t\"\"\"Compress images with different k values. Compressed format is png.\"\"\"\n",
        "\tfor i in range(1, num_imgs+1):\n",
        "\t\timg = io.imread(\"{0}/{1}.{2}\".format(in_dir, i, img_format))\n",
        "\t\timg = img_as_float(img)\n",
        "\t\tfor ss in ss_values:\n",
        "\t\t\tfilename = \"{0}/{1}/{2}.png\".format(out_dir, i, str(ss).replace('.', ''))\n",
        "\t\t\tprint (filename)\n",
        "\t\t\t# check if this is an RGB or grayscale image\n",
        "\t\t\tcompressed = svd_compress_ssim(img, ss)\n",
        "\t\t\tio.imsave(filename, compressed)\n",
        "\n",
        "def main():\n",
        "\tparser = argparse.ArgumentParser(description='Image compression with SVD')\n",
        "\tparser.add_argument('-c', dest='compress', nargs='?', help='compress image using SVD')\n",
        "\tparser.add_argument('-k', dest='k', nargs='*', default=['5', '5', '5'], help='compression factor k (default 5)')\n",
        "\tparser.add_argument('-s', dest='ssim', nargs=2, help='calculate ssim between 2 images')\n",
        "\tparser.add_argument('-r', dest='size', type=int, default=100, help='image resize percentage (default 100)')\n",
        "\tparser.add_argument('-f', dest='fname', nargs='?', help='saved compressed image to file')\n",
        "\targs = parser.parse_args()\n",
        "\targs.k = [int(x) for x in args.k]\n",
        "\n",
        "\tif args.ssim:\n",
        "\t\timg1 = img_as_float(io.imread(args.ssim[0]))\n",
        "\t\timg2 = img_as_float(io.imread(args.ssim[1]))\n",
        "\t\tss = ssim(img1, img2)\n",
        "\t\tprint (\"Strucural similarity: %r\" % ss)\n",
        "\telif args.compress:\n",
        "\t\timg = io.imread(args.compress)\n",
        "\t\tprint (\"Original image dimensions {0}\".format(img.shape))\n",
        "\t\tif args.size < 100:\n",
        "\t\t\timg = misc.imresize(img, args.size)\n",
        "\t\timg = img_as_float(img)\n",
        "\t\t# check if this is an RGB or grayscale image\n",
        "\t\tif len(img.shape) > 2:\n",
        "\t\t\tif len(args.k) != img.shape[2]:\n",
        "\t\t\t\tprint (\"Provide correct number of k values (%r)\" % img.shape[2])\n",
        "\t\t\t\treturn\n",
        "\t\t\tcompressed = svd_compress_rgb(img, args.k[0], args.k[1], args.k[2])\n",
        "\t\telse:\n",
        "\t\t\tcompressed = svd_compress_gs(img, args.k[0])\n",
        "\t\tprint (\"Compression ratio: %r\" % compress_ratio(img, args.k))\n",
        "\t\tif args.fname:\n",
        "\t\t\tio.imsave(args.fname, compressed)\n",
        "\t\tio.imshow(compressed)\n",
        "\t\tio.show()\n",
        "\telif args.size < 100:\n",
        "\t\tprint (\"Resizing image to {0}%\".format(args.r))\n",
        "\t\timg = misc.imresize(img, args.size)\n",
        "\t\tplt.figure(figsize=(10, 3.6))\n",
        "\t\tplt.imshow(img)\n",
        "\t\tplt.show()\n",
        "\telse:\n",
        "\t\tparser.print_help()\n",
        "\n",
        "if __name__ == '__main__':\n",
        "\tmain()\n",
        "\n",
        "\t# compress images with different k values\n",
        "\t# compress_images_k(\"../gs\", \"../gsdiffk\", 10, \"pgm\", [1, 3, 5, 10, 15, 20])\n",
        "\t# compress_images_k(\"../rgb\", \"../rgbdiffk\", 10, \"jpg\", [5, 15, 25, 35, 45])\n",
        "\n",
        "\t# compress images with different target ss values using svd_compress_ssim\n",
        "\t# compress_images_ss(\"../gs\", \"../gsdiffss\", 10, \"pgm\", [0.5, 0.6, 0.7, 0.8, 0.9])"
      ],
      "metadata": {
        "id": "YjezAlr-dSYM"
      },
      "execution_count": null,
      "outputs": []
    },
    {
      "cell_type": "markdown",
      "metadata": {
        "id": "N3MPDa5UzYAN"
      },
      "source": [
        "## Summary\n",
        "\n",
        "In this section we have seen how to using Numpy:\n",
        "\n",
        "- Manipulate matrices;\n",
        "- Solve linear systems;\n",
        "- Compute Matrix inverses and determinants.\n",
        "\n",
        "This again just touches on the capabilities of Numpy. For more information please refer to this [Python tutorial.](https://github.com/kuleshov/teaching-material/blob/master/tutorials/python/cs228-python-tutorial.ipynb)"
      ]
    }
  ],
  "metadata": {
    "anaconda-cloud": {},
    "celltoolbar": "Tags",
    "colab": {
      "provenance": [],
      "include_colab_link": true
    },
    "kernelspec": {
      "display_name": "Python 3 (ipykernel)",
      "language": "python",
      "name": "python3"
    },
    "language_info": {
      "codemirror_mode": {
        "name": "ipython",
        "version": 3
      },
      "file_extension": ".py",
      "mimetype": "text/x-python",
      "name": "python",
      "nbconvert_exporter": "python",
      "pygments_lexer": "ipython3",
      "version": "3.9.12"
    }
  },
  "nbformat": 4,
  "nbformat_minor": 0
}